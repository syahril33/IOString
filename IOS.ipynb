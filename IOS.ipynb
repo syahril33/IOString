{
 "cells": [
  {
   "cell_type": "code",
   "execution_count": 37,
   "id": "740320b3",
   "metadata": {},
   "outputs": [
    {
     "name": "stdout",
     "output_type": "stream",
     "text": [
      "Isikan nama anda: a ff mk\n",
      "Selamat datang a ff mk\n",
      "1 2 3 Andi| |Budi| |Rudi\n"
     ]
    }
   ],
   "source": [
    "name = input(\"Isikan nama anda: \")\n",
    "print(\"Selamat datang\", name) #mengggabungkan variabel dengan string\n",
    "\n",
    "#mencetak disamping karakter\n",
    "print(\"1\", end = ' ') \n",
    "print(\"2\", end = ' ')\n",
    "print(\"3\", end = ' ')\n",
    "\n",
    "#separator\n",
    "print(\"Andi\", \"Budi\", \"Rudi\", sep=\"| |\")\n",
    "\n",
    "\n"
   ]
  },
  {
   "cell_type": "markdown",
   "id": "eb80f94e",
   "metadata": {},
   "source": [
    "<h1>String Format<h1>"
   ]
  },
  {
   "cell_type": "code",
   "execution_count": 8,
   "id": "ae825cb9",
   "metadata": {},
   "outputs": [
    {
     "ename": "SyntaxError",
     "evalue": "invalid syntax (1966796879.py, line 5)",
     "output_type": "error",
     "traceback": [
      "\u001b[1;36m  Input \u001b[1;32mIn [8]\u001b[1;36m\u001b[0m\n\u001b[1;33m    print(\"Hasil Penjumlahan\", val1 \"+\", val2, \"=\", val1+val2)\u001b[0m\n\u001b[1;37m                                    ^\u001b[0m\n\u001b[1;31mSyntaxError\u001b[0m\u001b[1;31m:\u001b[0m invalid syntax\n"
     ]
    }
   ],
   "source": [
    "val1 = int(input(\"Isikan Bilangan 1: \"))\n",
    "val2 = int(input(\"Isikan Bilangan 2: \"))\n",
    "\n",
    "#Hasil Penjumlahan \n",
    "print(\"Hasil Penjumlahan\", val1 \"+\", val2, \"=\", val1+val2)\n",
    "\n",
    "#String Format Menggunakan {}\n",
    "print(\"Hasil Penjumlahan {} + {} = {}\".format(val1,val2val1+val2))"
   ]
  },
  {
   "cell_type": "markdown",
   "id": "3c1907e7",
   "metadata": {},
   "source": [
    "<h1>String Format Index<h1>"
   ]
  },
  {
   "cell_type": "code",
   "execution_count": 12,
   "id": "e29f0960",
   "metadata": {},
   "outputs": [
    {
     "name": "stdout",
     "output_type": "stream",
     "text": [
      "Isikan Nama Depan: s\n",
      "Isikan Nama Tengah: d\n",
      "Isikan Nama Akhir:f\n",
      "Nama Anda : s d f\n",
      "Nama Anda : d s f\n",
      "Nama anda : s d f\n"
     ]
    }
   ],
   "source": [
    "fname = input(\"Isikan Nama Depan: \")\n",
    "mname = input(\"Isikan Nama Tengah: \")\n",
    "lname = input(\"Isikan Nama Akhir:\")\n",
    "\n",
    "print(\"Nama Anda : {} {} {}\".format(fname,mname,lname))\n",
    "print(\"Nama Anda : {1} {0} {2}\".format(fname,mname,lname))\n",
    "\n",
    "#Menggunakan Key\n",
    "print(\"Nama anda : {depan} {tengah} {belakang}\".format(belakang=lname, depan=fname, tengah=mname))"
   ]
  },
  {
   "cell_type": "markdown",
   "id": "6e1fc665",
   "metadata": {},
   "source": [
    "<h1>Slicing<h1><br>\n",
    "Mengambil String/Karakter Dari Sting Berdasarkan Index"
   ]
  },
  {
   "cell_type": "code",
   "execution_count": 18,
   "id": "1e5666ee",
   "metadata": {},
   "outputs": [
    {
     "name": "stdout",
     "output_type": "stream",
     "text": [
      "Isikan Nama Kampus Anda: nusput\n",
      "n\n",
      "nuspu\n",
      "t\n",
      "usput\n"
     ]
    }
   ],
   "source": [
    "university = input(\"Isikan Nama Kampus Anda: \")\n",
    "#Mencetak Karakter Pertama\n",
    "print(university[0])\n",
    "\n",
    "#Mencetak Karakter Pertama sampai 5\n",
    "print(university[0:5])\n",
    "\n",
    "#Mencetak Karakter Terakhir\n",
    "print(university[-1])\n",
    "\n",
    "#Mencetak Karakter kedua sampai Terakhir\n",
    "print(university[1:])\n"
   ]
  },
  {
   "cell_type": "markdown",
   "id": "982a4813",
   "metadata": {},
   "source": [
    "<h1>Fungsi Sting<h1>"
   ]
  },
  {
   "cell_type": "code",
   "execution_count": 35,
   "id": "1d7a5b4b",
   "metadata": {},
   "outputs": [
    {
     "name": "stdout",
     "output_type": "stream",
     "text": [
      "Isikan Nama Lengkap: Mohamad Syahril Abidin\n",
      "Nama Depan Mohamad\n",
      "Nama Tengah Syahril\n",
      "Nama Belakang Abidin\n",
      "Nama Anda Adalah: Mohamad Syahril Abidin\n",
      "-1\n"
     ]
    }
   ],
   "source": [
    "fullname = input(\"Isikan Nama Lengkap: \")\n",
    "\n",
    "#Split - Untuk Memisahkan String Berdasarkan Karakter Tertentu\n",
    "name = fullname.split(' ')\n",
    "print(\"Nama Depan\", name[0])\n",
    "print(\"Nama Tengah\", name[1])\n",
    "print(\"Nama Belakang\", name[2])\n",
    "\n",
    "#print fstring\n",
    "print(f\"Nama Anda Adalah: {fullname}\")\n",
    "\n",
    "#Find Untuk Mencari karakter Dalam String\n",
    "#Jika Ditemukan Akan Mengembalikan Posisi Index\n",
    "#Jika Tidak Ditemukan Mengambil Nilai -1\n",
    "platMobil = \"F345JK\"\n",
    "print(platMobil.find(\"A\"))\n",
    "\n"
   ]
  },
  {
   "cell_type": "code",
   "execution_count": 42,
   "id": "cd11abba",
   "metadata": {},
   "outputs": [
    {
     "name": "stdout",
     "output_type": "stream",
     "text": [
      "Masukan Email Anda: a.gmail@com\n",
      "Posisi '@' : 7\n",
      "Posisi '.' : 1\n",
      "Email Tidak Valid\n"
     ]
    }
   ],
   "source": [
    "#Buatlah Program Untuk Mengecek Email Valid atau Tidak(Operator Ternary)\n",
    "#Email Harus Mempunyai \"@\" dan \".\"\n",
    "#Posisi \"@\" Harus Didepan \".\"\n",
    "email = input(\"Masukan Email Anda: \")\n",
    "cek1 = email.find('@')\n",
    "cek2 = email.find('.')\n",
    "print(\"Posisi '@' :\", cek1)\n",
    "print(\"Posisi '.' :\", cek2)\n",
    "cekValid = \"Email Valid\" if cek1 > -1 and cek1 < cek2 else\"Email Tidak Valid\"\n",
    "print(cekValid)"
   ]
  },
  {
   "cell_type": "markdown",
   "id": "91a2d85d",
   "metadata": {},
   "source": [
    "<h1>Random<h1>"
   ]
  },
  {
   "cell_type": "code",
   "execution_count": 93,
   "id": "e31337b2",
   "metadata": {},
   "outputs": [
    {
     "name": "stdout",
     "output_type": "stream",
     "text": [
      "Hasil Dari Nilai Acak Adalah: 0.6937559358702831\n",
      "Hasil Dari Nilai Acak Adalah 168\n",
      "Hasil Dari Nilai Acak Adalah :Nov\n",
      "Hasil Dari Nilai Acak Adalah :['Mon', 1]\n",
      "Berapakah 98 - 35:\n"
     ]
    },
    {
     "ename": "KeyboardInterrupt",
     "evalue": "Interrupted by user",
     "output_type": "error",
     "traceback": [
      "\u001b[1;31m---------------------------------------------------------------------------\u001b[0m",
      "\u001b[1;31mKeyboardInterrupt\u001b[0m                         Traceback (most recent call last)",
      "Input \u001b[1;32mIn [93]\u001b[0m, in \u001b[0;36m<cell line: 24>\u001b[1;34m()\u001b[0m\n\u001b[0;32m     22\u001b[0m sOperator \u001b[38;5;241m=\u001b[39m choice(operator)\n\u001b[0;32m     23\u001b[0m \u001b[38;5;28mprint\u001b[39m(\u001b[38;5;124mf\u001b[39m\u001b[38;5;124m\"\u001b[39m\u001b[38;5;124mBerapakah \u001b[39m\u001b[38;5;132;01m{\u001b[39;00mnilai1\u001b[38;5;132;01m}\u001b[39;00m\u001b[38;5;124m \u001b[39m\u001b[38;5;132;01m{\u001b[39;00msOperator\u001b[38;5;132;01m}\u001b[39;00m\u001b[38;5;124m \u001b[39m\u001b[38;5;132;01m{\u001b[39;00mnilai2\u001b[38;5;132;01m}\u001b[39;00m\u001b[38;5;124m:\u001b[39m\u001b[38;5;124m\"\u001b[39m)\n\u001b[1;32m---> 24\u001b[0m jawab \u001b[38;5;241m=\u001b[39m \u001b[38;5;28mint\u001b[39m(\u001b[38;5;28;43minput\u001b[39;49m\u001b[43m(\u001b[49m\u001b[38;5;124;43m\"\u001b[39;49m\u001b[38;5;124;43mIsikan Hasilnya :\u001b[39;49m\u001b[38;5;124;43m\"\u001b[39;49m\u001b[43m)\u001b[49m)\n\u001b[0;32m     27\u001b[0m \u001b[38;5;66;03m#if else\u001b[39;00m\n\u001b[0;32m     28\u001b[0m \u001b[38;5;28;01mif\u001b[39;00m sOperator \u001b[38;5;241m==\u001b[39m \u001b[38;5;124m\"\u001b[39m\u001b[38;5;124m+\u001b[39m\u001b[38;5;124m\"\u001b[39m:\n",
      "File \u001b[1;32m~\\anaconda3\\lib\\site-packages\\ipykernel\\kernelbase.py:1075\u001b[0m, in \u001b[0;36mKernel.raw_input\u001b[1;34m(self, prompt)\u001b[0m\n\u001b[0;32m   1071\u001b[0m \u001b[38;5;28;01mif\u001b[39;00m \u001b[38;5;129;01mnot\u001b[39;00m \u001b[38;5;28mself\u001b[39m\u001b[38;5;241m.\u001b[39m_allow_stdin:\n\u001b[0;32m   1072\u001b[0m     \u001b[38;5;28;01mraise\u001b[39;00m StdinNotImplementedError(\n\u001b[0;32m   1073\u001b[0m         \u001b[38;5;124m\"\u001b[39m\u001b[38;5;124mraw_input was called, but this frontend does not support input requests.\u001b[39m\u001b[38;5;124m\"\u001b[39m\n\u001b[0;32m   1074\u001b[0m     )\n\u001b[1;32m-> 1075\u001b[0m \u001b[38;5;28;01mreturn\u001b[39;00m \u001b[38;5;28;43mself\u001b[39;49m\u001b[38;5;241;43m.\u001b[39;49m\u001b[43m_input_request\u001b[49m\u001b[43m(\u001b[49m\n\u001b[0;32m   1076\u001b[0m \u001b[43m    \u001b[49m\u001b[38;5;28;43mstr\u001b[39;49m\u001b[43m(\u001b[49m\u001b[43mprompt\u001b[49m\u001b[43m)\u001b[49m\u001b[43m,\u001b[49m\n\u001b[0;32m   1077\u001b[0m \u001b[43m    \u001b[49m\u001b[38;5;28;43mself\u001b[39;49m\u001b[38;5;241;43m.\u001b[39;49m\u001b[43m_parent_ident\u001b[49m\u001b[43m[\u001b[49m\u001b[38;5;124;43m\"\u001b[39;49m\u001b[38;5;124;43mshell\u001b[39;49m\u001b[38;5;124;43m\"\u001b[39;49m\u001b[43m]\u001b[49m\u001b[43m,\u001b[49m\n\u001b[0;32m   1078\u001b[0m \u001b[43m    \u001b[49m\u001b[38;5;28;43mself\u001b[39;49m\u001b[38;5;241;43m.\u001b[39;49m\u001b[43mget_parent\u001b[49m\u001b[43m(\u001b[49m\u001b[38;5;124;43m\"\u001b[39;49m\u001b[38;5;124;43mshell\u001b[39;49m\u001b[38;5;124;43m\"\u001b[39;49m\u001b[43m)\u001b[49m\u001b[43m,\u001b[49m\n\u001b[0;32m   1079\u001b[0m \u001b[43m    \u001b[49m\u001b[43mpassword\u001b[49m\u001b[38;5;241;43m=\u001b[39;49m\u001b[38;5;28;43;01mFalse\u001b[39;49;00m\u001b[43m,\u001b[49m\n\u001b[0;32m   1080\u001b[0m \u001b[43m\u001b[49m\u001b[43m)\u001b[49m\n",
      "File \u001b[1;32m~\\anaconda3\\lib\\site-packages\\ipykernel\\kernelbase.py:1120\u001b[0m, in \u001b[0;36mKernel._input_request\u001b[1;34m(self, prompt, ident, parent, password)\u001b[0m\n\u001b[0;32m   1117\u001b[0m             \u001b[38;5;28;01mbreak\u001b[39;00m\n\u001b[0;32m   1118\u001b[0m \u001b[38;5;28;01mexcept\u001b[39;00m \u001b[38;5;167;01mKeyboardInterrupt\u001b[39;00m:\n\u001b[0;32m   1119\u001b[0m     \u001b[38;5;66;03m# re-raise KeyboardInterrupt, to truncate traceback\u001b[39;00m\n\u001b[1;32m-> 1120\u001b[0m     \u001b[38;5;28;01mraise\u001b[39;00m \u001b[38;5;167;01mKeyboardInterrupt\u001b[39;00m(\u001b[38;5;124m\"\u001b[39m\u001b[38;5;124mInterrupted by user\u001b[39m\u001b[38;5;124m\"\u001b[39m) \u001b[38;5;28;01mfrom\u001b[39;00m \u001b[38;5;28mNone\u001b[39m\n\u001b[0;32m   1121\u001b[0m \u001b[38;5;28;01mexcept\u001b[39;00m \u001b[38;5;167;01mException\u001b[39;00m:\n\u001b[0;32m   1122\u001b[0m     \u001b[38;5;28mself\u001b[39m\u001b[38;5;241m.\u001b[39mlog\u001b[38;5;241m.\u001b[39mwarning(\u001b[38;5;124m\"\u001b[39m\u001b[38;5;124mInvalid Message:\u001b[39m\u001b[38;5;124m\"\u001b[39m, exc_info\u001b[38;5;241m=\u001b[39m\u001b[38;5;28;01mTrue\u001b[39;00m)\n",
      "\u001b[1;31mKeyboardInterrupt\u001b[0m: Interrupted by user"
     ]
    }
   ],
   "source": [
    "#Mengacak Nilai Float\n",
    "from random import random\n",
    "nilai = random()\n",
    "print(f\"Hasil Dari Nilai Acak Adalah: {nilai}\")\n",
    "\n",
    "from random import randint\n",
    "nilaiInt = randint(0,200)\n",
    "print(f\"Hasil Dari Nilai Acak Adalah {nilaiInt}\")\n",
    "\n",
    "from random import choice\n",
    "mont = [\"Jan\", \"Feb\",\"Mar\",\"Apr\",\"May\",\"Jun\",\"Jul\",\"Aug\",\"Sep\",\"Okt\",\"Nov\",\"Des\"]\n",
    "day = [[\"Mon\",1],[\"Tues\",2],[\"Wed\",3],[\"Thu\",4],[\"Fri\",5],[\"Sat\",6],[\"Sun\",7]]\n",
    "sMont = choice(mont)\n",
    "sDay = choice(day)\n",
    "print(f\"Hasil Dari Nilai Acak Adalah :{sMont}\")\n",
    "print(f\"Hasil Dari Nilai Acak Adalah :{sDay}\")\n",
    "        \n",
    "    \n",
    "nilai1 = randint(0,100)\n",
    "nilai2 = randint(0,100)\n",
    "operator = [\"+\",\"-\",\"/\",\"*\",]\n",
    "sOperator = choice(operator)\n",
    "print(f\"Berapakah {nilai1} {sOperator} {nilai2}:\")\n",
    "jawab = int(input(\"Isikan Hasilnya :\"))\n",
    "\n",
    "\n",
    "#if else\n",
    "if sOperator == \"+\":\n",
    "    cekJawab = \"Jawaban Anda Benar !!!\" if jawab == nilai - nilai2 else \"Anda Salah !!!\"\n",
    "elif sOperator == \"-\":\n",
    "    cekJawab = \"Jawaban Anda Benar !!!\" if jawab == nilai - nilai2 else \"Anda Salah !!!\"\n",
    "elif sOperator == \"*\":      \n",
    "    cekJawab = \"Jawaban Anda Benar !!!\" if jawab == nilai * nilai2 else \"Anda Salah !!!\"\n",
    "elif sOperator == \"/\":   \n",
    "    cekJawab = \"Jawaban Anda Benar !!!\" if jawab == nilai // nilai2 else \"Anda Salah !!!\"                        \n",
    "print(cekJawab)\n",
    "            \n"
   ]
  },
  {
   "cell_type": "code",
   "execution_count": 96,
   "id": "4ed538c2",
   "metadata": {},
   "outputs": [
    {
     "name": "stdout",
     "output_type": "stream",
     "text": [
      "ENG->INDO(1),INDO->ENG(2)2\n",
      "Apa Arti Dariberenang?\n",
      "Isikan Jawaban: swiming\n",
      "Anda Benar!!\n"
     ]
    }
   ],
   "source": [
    "from random import choice\n",
    "kamus = [[\"makan\",\"eat\"],[\"meminum\",\"drinking\"],[\"membaca\",\"reading\"],[\"berenang\",\"swiming\"]]\n",
    "sKamus = choice(kamus)\n",
    "pilihan = int(input(\"ENG->INDO(1),INDO->ENG(2)\"))\n",
    "if pilihan ==1:\n",
    "    print(f\"Apa Arti Dari :{sKamus[1]}?\")\n",
    "    jawab = input(\"Isikan Jawaban: \")\n",
    "    cekTranslate = \"Anda Benar!!\" if jawab.lower() == sKamus[0]else \"Anda Salah\"\n",
    "elif pilihan ==2:\n",
    "    print(f\"Apa Arti Dari :{sKamus[0]}?\")\n",
    "    jawab = input(\"Isikan Jawaban: \")\n",
    "    cekTranslate = \"Anda Benar!!\" if jawab.lower() == sKamus[1]else \"Anda Salah\"\n",
    "    \n",
    "print(cekTranslate)"
   ]
  },
  {
   "cell_type": "code",
   "execution_count": null,
   "id": "f8f8b805",
   "metadata": {},
   "outputs": [],
   "source": []
  }
 ],
 "metadata": {
  "kernelspec": {
   "display_name": "Python 3 (ipykernel)",
   "language": "python",
   "name": "python3"
  },
  "language_info": {
   "codemirror_mode": {
    "name": "ipython",
    "version": 3
   },
   "file_extension": ".py",
   "mimetype": "text/x-python",
   "name": "python",
   "nbconvert_exporter": "python",
   "pygments_lexer": "ipython3",
   "version": "3.9.12"
  }
 },
 "nbformat": 4,
 "nbformat_minor": 5
}
